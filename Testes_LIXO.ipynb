{
 "cells": [
  {
   "metadata": {
    "ExecuteTime": {
     "end_time": "2024-05-22T11:14:09.542307Z",
     "start_time": "2024-05-22T11:14:07.983136Z"
    }
   },
   "cell_type": "code",
   "source": [
    "import numpy as np\n",
    "import pandas as pd\n",
    "import plotly.express as px\n",
    "import plotly.graph_objects as go"
   ],
   "id": "d91f17a298655f18",
   "execution_count": 1,
   "outputs": []
  },
  {
   "metadata": {
    "ExecuteTime": {
     "end_time": "2024-05-22T11:14:09.553174Z",
     "start_time": "2024-05-22T11:14:09.544315Z"
    }
   },
   "cell_type": "code",
   "source": [
    "# Função para carregar os dados\n",
    "def load_data(columns=None):\n",
    "    # Carregar as partes dos arquivos\n",
    "    parts = []\n",
    "    for i in range(3):\n",
    "        part = pd.read_pickle(f'Datasets_Vodafone/Facebook_PCU_Analysis_part_{i+1}.pkl')\n",
    "        if columns is not None:\n",
    "            part = part[columns]\n",
    "        parts.append(part)\n",
    "\n",
    "    # Concatenar as partes para obter o DataFrame completo\n",
    "    Facebook_PCU_Analysis = pd.concat(parts)\n",
    "\n",
    "    # Selecionar colunas, se necessário\n",
    "    if columns is not None:\n",
    "        Facebook_PCU_Analysis = Facebook_PCU_Analysis[columns]\n",
    "\n",
    "    # Alterar tipos de dados\n",
    "    Facebook_PCU_Analysis['post_id'] = Facebook_PCU_Analysis['post_id'].astype(str)\n",
    "    Facebook_PCU_Analysis['post_date'] = pd.to_datetime(Facebook_PCU_Analysis['post_date'])\n",
    "\n",
    "    # Calcular o dia da semana (0 = Segunda-Feira, 6 = Domingo)\n",
    "    Facebook_PCU_Analysis['post_weekday'] = Facebook_PCU_Analysis['post_date'].dt.weekday\n",
    "    weekday_names = {0: 'Segunda-feira', 1: 'Terça-feira', 2: 'Quarta-feira', 3: 'Quinta-feira', 4: 'Sexta-feira', 5: 'Sábado', 6: 'Domingo'}\n",
    "    Facebook_PCU_Analysis['post_weekday'] = Facebook_PCU_Analysis['post_weekday'].map(weekday_names)\n",
    "\n",
    "    return Facebook_PCU_Analysis"
   ],
   "id": "initial_id",
   "execution_count": 2,
   "outputs": []
  },
  {
   "metadata": {
    "ExecuteTime": {
     "end_time": "2024-05-22T11:14:10.173473Z",
     "start_time": "2024-05-22T11:14:09.555213Z"
    }
   },
   "cell_type": "code",
   "source": [
    "# Carregar os dados\n",
    "Facebook_PCU_Analysis = load_data()"
   ],
   "id": "eef31b7cec9ffcc",
   "execution_count": 3,
   "outputs": []
  },
  {
   "metadata": {
    "ExecuteTime": {
     "end_time": "2024-05-22T11:14:10.436569Z",
     "start_time": "2024-05-22T11:14:10.174746Z"
    }
   },
   "cell_type": "code",
   "source": "Facebook_PCU_Analysis",
   "id": "7b8d44b97bc3116b",
   "execution_count": 4,
   "outputs": []
  },
  {
   "metadata": {
    "ExecuteTime": {
     "end_time": "2024-05-22T11:16:31.632569Z",
     "start_time": "2024-05-22T11:16:31.134668Z"
    }
   },
   "cell_type": "code",
   "source": [
    "# Soma de post shares, soma de post reactions e contagem de post comments por mês (agrupar por post_id)\n",
    "posts_per_month = Facebook_PCU_Analysis.groupby(['post_id', pd.Grouper(key='post_date', freq='M')]) \\\n",
    "    .agg({'post_shares': 'sum', 'post_reactions': 'sum', 'post_comments': 'sum'}).reset_index()"
   ],
   "id": "3ae9abb4878b21de",
   "execution_count": 8,
   "outputs": []
  },
  {
   "metadata": {
    "ExecuteTime": {
     "end_time": "2024-05-22T11:16:33.327557Z",
     "start_time": "2024-05-22T11:16:33.310255Z"
    }
   },
   "cell_type": "code",
   "source": "posts_per_month",
   "id": "34de4d404f41b1af",
   "execution_count": 9,
   "outputs": []
  },
  {
   "metadata": {
    "ExecuteTime": {
     "end_time": "2024-05-22T11:27:57.767366Z",
     "start_time": "2024-05-22T11:27:57.476041Z"
    }
   },
   "cell_type": "code",
   "source": [
    "df = Facebook_PCU_Analysis.copy()\n",
    "\n",
    "# Filtrar para incluir apenas \"Masculino\" e \"Feminino\"\n",
    "df = df[df['user_predicted_genre'].isin(['Masculino', 'Feminino', 'Indeterminado'])]\n",
    "\n",
    "# Agrupar dados por Género e Dia da Semana\n",
    "grouped_df = df.groupby(['user_predicted_genre', 'post_weekday']).size().reset_index(name='Total de Utilizadores')\n",
    "\n",
    "# Calcular percentagem para cada género e dia da semana\n",
    "total_users = grouped_df['Total de Utilizadores'].sum()\n",
    "grouped_df['Percentagem'] = (grouped_df['Total de Utilizadores'] / total_users) * 100\n",
    "\n",
    "# Criar listas de labels, parents e values para o gráfico de icicle\n",
    "labels = ['Total'] + grouped_df['user_predicted_genre'].unique().tolist() + grouped_df.apply(lambda row: f\"{row['user_predicted_genre']} - {row['post_weekday']}\", axis=1).tolist()\n",
    "parents = [''] + ['Total'] * len(grouped_df['user_predicted_genre'].unique()) + grouped_df['user_predicted_genre'].tolist()\n",
    "values = [total_users] + [grouped_df[grouped_df['user_predicted_genre'] == genre]['Total de Utilizadores'].sum() for genre in grouped_df['user_predicted_genre'].unique()] + grouped_df['Total de Utilizadores'].tolist()\n",
    "\n",
    "# Adicionar as percentagens aos labels\n",
    "labels_with_percent = ['Total'] + [f\"{genre} ({(grouped_df[grouped_df['user_predicted_genre'] == genre]['Total de Utilizadores'].sum() / total_users) * 100:.2f}%)\" for genre in grouped_df['user_predicted_genre'].unique()] + [f\"{row['user_predicted_genre']} - {row['post_weekday']} ({row['Percentagem']:.2f}%)\" for _, row in grouped_df.iterrows()]\n"
   ],
   "id": "865142db582cb2bb",
   "execution_count": 12,
   "outputs": []
  },
  {
   "metadata": {
    "ExecuteTime": {
     "end_time": "2024-05-22T11:27:59.861498Z",
     "start_time": "2024-05-22T11:27:59.854820Z"
    }
   },
   "cell_type": "code",
   "source": "labels_with_percent",
   "id": "d3a8ecf4e70126cc",
   "execution_count": 13,
   "outputs": []
  },
  {
   "metadata": {
    "ExecuteTime": {
     "end_time": "2024-05-22T11:31:59.306697Z",
     "start_time": "2024-05-22T11:31:59.299696Z"
    }
   },
   "cell_type": "code",
   "source": "labels_with_percent",
   "id": "e1b9c3899d1b28a0",
   "execution_count": 14,
   "outputs": []
  },
  {
   "metadata": {
    "ExecuteTime": {
     "end_time": "2024-05-22T11:32:07.260160Z",
     "start_time": "2024-05-22T11:32:07.253079Z"
    }
   },
   "cell_type": "code",
   "source": "parents",
   "id": "208628a27619d3b1",
   "execution_count": 15,
   "outputs": []
  },
  {
   "metadata": {
    "ExecuteTime": {
     "end_time": "2024-05-22T11:32:11.782125Z",
     "start_time": "2024-05-22T11:32:11.775334Z"
    }
   },
   "cell_type": "code",
   "source": "values",
   "id": "300d637ce7932a1f",
   "execution_count": 16,
   "outputs": []
  },
  {
   "metadata": {
    "ExecuteTime": {
     "end_time": "2024-05-22T11:32:48.661149Z",
     "start_time": "2024-05-22T11:32:48.653741Z"
    }
   },
   "cell_type": "code",
   "source": "len(labels_with_percent)",
   "id": "52966425a876d3c8",
   "execution_count": 20,
   "outputs": []
  },
  {
   "metadata": {},
   "cell_type": "code",
   "execution_count": null,
   "source": "",
   "id": "a7a36639e278244b",
   "outputs": []
  }
 ],
 "metadata": {
  "kernelspec": {
   "display_name": "Python 3",
   "language": "python",
   "name": "python3"
  },
  "language_info": {
   "codemirror_mode": {
    "name": "ipython",
    "version": 2
   },
   "file_extension": ".py",
   "mimetype": "text/x-python",
   "name": "python",
   "nbconvert_exporter": "python",
   "pygments_lexer": "ipython2",
   "version": "2.7.6"
  }
 },
 "nbformat": 4,
 "nbformat_minor": 5
}
